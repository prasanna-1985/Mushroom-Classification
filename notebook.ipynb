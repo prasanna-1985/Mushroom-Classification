{
  "cells": [
    {
      "metadata": {
        "_uuid": "f97a60f5761a8b40c356faccb4c8c1e898f950a2",
        "_cell_guid": "aa73bac4-3bb2-416e-9326-ef59993abaac"
      },
      "cell_type": "markdown",
      "source": "### Attribute Information: \n\n1. classes: edible=e, poisonous=p\n2. cap-shape: bell=b,conical=c,convex=x,flat=f, knobbed=k,sunken=s\n3. cap-surface: fibrous=f,grooves=g,scaly=y,smooth=s\n4. cap-color: brown=n,buff=b,cinnamon=c,gray=g,green=r,pink=p,purple=u,red=e,white=w,yellow=y\n5. bruises: bruises=t,no=f\n6. odor: almond=a,anise=l,creosote=c,fishy=y,foul=f,musty=m,none=n,pungent=p,spicy=s\n7. gill-attachment: attached=a,descending=d,free=f,notched=n\n8. gill-spacing: close=c,crowded=w,distant=d\n9. gill-size: broad=b,narrow=n\n10. gill-color: black=k,brown=n,buff=b,chocolate=h,gray=g, green=r,orange=o,pink=p,purple=u,red=e,white=w,yellow=y\n11. stalk-shape: enlarging=e,tapering=t\n12. stalk-root: bulbous=b,club=c,cup=u,equal=e,rhizomorphs=z,rooted=r,missing=?\n13. stalk-surface-above-ring: fibrous=f,scaly=y,silky=k,smooth=s\n14. stalk-surface-below-ring: fibrous=f,scaly=y,silky=k,smooth=s\n15. stalk-color-above-ring: brown=n,buff=b,cinnamon=c,gray=g,orange=o,pink=p,red=e,white=w,yellow=y\n16. stalk-color-below-ring: brown=n,buff=b,cinnamon=c,gray=g,orange=o,pink=p,red=e,white=w,yellow=y\n17. veil-type: partial=p,universal=u\n18. veil-color: brown=n,orange=o,white=w,yellow=y\n19. ring-number: none=n,one=o,two=t\n20. ring-type: cobwebby=c,evanescent=e,flaring=f,large=l,none=n,pendant=p,sheathing=s,zone=z\n21. spore-print-color: black=k,brown=n,buff=b,chocolate=h,green=r,orange=o,purple=u,white=w,yellow=y\n22. population: abundant=a,clustered=c,numerous=n,scattered=s,several=v,solitary=y\n23. habitat: grasses=g,leaves=l,meadows=m,paths=p,urban=u,waste=w,woods=d"
    },
    {
      "metadata": {
        "_uuid": "4d985080b40974b797e3efb480ae916bff71054f",
        "_cell_guid": "f4fcb31f-b896-4492-8727-2e6f27fa87a1",
        "collapsed": true,
        "trusted": false
      },
      "cell_type": "code",
      "source": "#Importing necessary libraries\nimport pandas as pd\nfrom sklearn import tree\nfrom sklearn import metrics\nimport numpy as np\nimport matplotlib.pyplot as plt\nfrom sklearn.preprocessing import LabelEncoder, OneHotEncoder\nfrom sklearn.model_selection import RandomizedSearchCV\nfrom sklearn.base import TransformerMixin\n% matplotlib inline",
      "execution_count": null,
      "outputs": []
    },
    {
      "metadata": {
        "_uuid": "d953753745c5b518784c2c15c76c2855e594bd1d",
        "_cell_guid": "c9e2790e-d410-46ab-a436-147f4da232a9",
        "trusted": false,
        "collapsed": true
      },
      "cell_type": "code",
      "source": "#Reading the files\ndataset = pd.read_csv(\"../input/mushrooms.csv\", na_values= '?', keep_default_na = False)",
      "execution_count": null,
      "outputs": []
    },
    {
      "metadata": {
        "_uuid": "ba5c3d1fe0b73a954302e8886dd3e323acd772ea",
        "_cell_guid": "7ae413be-85c8-41fa-8632-f73fddf60b0c",
        "trusted": false,
        "collapsed": true
      },
      "cell_type": "code",
      "source": "dataset.head()",
      "execution_count": null,
      "outputs": []
    },
    {
      "metadata": {
        "_uuid": "cbc282a719898122fa8c7a2138b5a10306a72183",
        "_cell_guid": "7e37e5ec-3ad8-4933-be0b-631bf7a0017d",
        "trusted": false,
        "collapsed": true
      },
      "cell_type": "code",
      "source": "# Checking the data types\ndataset.info()",
      "execution_count": null,
      "outputs": []
    },
    {
      "metadata": {
        "_uuid": "3879b1dba7ba3eacf86d6a3780e7a8659f93f2a2",
        "_cell_guid": "02a43e16-dd77-4a74-a27b-c923466fdadb",
        "trusted": false,
        "collapsed": true
      },
      "cell_type": "code",
      "source": "#Shape of dataset\ndataset.shape",
      "execution_count": null,
      "outputs": []
    },
    {
      "metadata": {
        "_uuid": "bd642638645ab9eaf99538ceb2e40437be4bcb58",
        "_cell_guid": "b9bee46c-4c98-4da3-834f-84c89e0677ff"
      },
      "cell_type": "markdown",
      "source": "## Handling Missing data\n* we have missing data denoted by \"NaN\" under stalk-root column.\n* we will replace NaN values with most frequent value under column \"Stalk-root\""
    },
    {
      "metadata": {
        "_uuid": "8d742e6a461bba00a250f149448fbf0056ad9406",
        "_cell_guid": "ed6b9d75-aae4-4c72-a14c-b68943f52fec",
        "trusted": false,
        "collapsed": true
      },
      "cell_type": "code",
      "source": "#checking null values\ndataset.isnull().sum()",
      "execution_count": null,
      "outputs": []
    },
    {
      "metadata": {
        "_uuid": "78c64ee8a3988c6bc0e48650708e106fabfa5741",
        "_cell_guid": "bb14c3da-b1a6-46ee-9449-4fe41c6fb2e8",
        "collapsed": true,
        "trusted": false
      },
      "cell_type": "code",
      "source": "class DataFrameImputer(TransformerMixin):\n\n    def __init__(self):\n        \"\"\"Impute missing values.\n\n        Columns of dtype object are imputed with the most frequent value \n        in column.\n\n        Columns of other types are imputed with mean of column.\n\n        \"\"\"\n    def fit(self, X, y=None):\n\n        self.fill = pd.Series([X[c].value_counts().index[0]\n            if X[c].dtype == np.dtype('O') else X[c].mean() for c in X],\n            index=X.columns)\n\n        return self\n\n    def transform(self, X, y=None):\n        return X.fillna(self.fill)",
      "execution_count": null,
      "outputs": []
    },
    {
      "metadata": {
        "_uuid": "3add2f8c4e8e331ba6fb44f122e4eb08a291b912",
        "_cell_guid": "811d2710-c3e4-486f-b4ea-1d8f14f337c3",
        "collapsed": true,
        "trusted": false
      },
      "cell_type": "code",
      "source": "#X = pd.DataFrame(dataset['stalk-root'])\ndataset['stalk-root'] = DataFrameImputer().fit_transform(pd.DataFrame(dataset['stalk-root']))",
      "execution_count": null,
      "outputs": []
    },
    {
      "metadata": {
        "_uuid": "c43ad60fde1deadde70d1fb744f6af3b219726b9",
        "_cell_guid": "d3322d71-e242-4e28-ac69-94edd5b17fb0",
        "trusted": false,
        "collapsed": true
      },
      "cell_type": "code",
      "source": "#checking null values\ndataset.isnull().sum()",
      "execution_count": null,
      "outputs": []
    },
    {
      "metadata": {
        "_uuid": "646abbf532cd83a141a49438f457189aa442e140",
        "_cell_guid": "377435f8-4dca-40ea-b1c4-af67d2c961a3"
      },
      "cell_type": "markdown",
      "source": "### Label Encoding"
    },
    {
      "metadata": {
        "_uuid": "14c052a5d53decd6023ca750e93a7dcdbf2df00d",
        "_cell_guid": "cdfb1051-516b-4941-81c2-aec80ed24dec",
        "trusted": false,
        "collapsed": true
      },
      "cell_type": "code",
      "source": "labelencoder = LabelEncoder()\nfor col in dataset.columns:\n    dataset[col] = labelencoder.fit_transform(dataset[col])\ndataset.head()",
      "execution_count": null,
      "outputs": []
    },
    {
      "metadata": {
        "_uuid": "496feee89f405acbffae6abe91e8ee85dfa52449",
        "_cell_guid": "aab26f5f-1730-4e1e-9cb5-48f4e6683de4"
      },
      "cell_type": "markdown",
      "source": "### Defining Dependent and Independent variables"
    },
    {
      "metadata": {
        "_uuid": "6e48e88691d159d2839ef52fe152f42cc97c1c33",
        "_cell_guid": "977f0ea9-f37b-459e-832e-97e80cadbc5b",
        "collapsed": true,
        "trusted": false
      },
      "cell_type": "code",
      "source": "# Defining x and y variables\nx = dataset.iloc[:, 1:23].values\ny = dataset.iloc[:, :1].values",
      "execution_count": null,
      "outputs": []
    },
    {
      "metadata": {
        "_uuid": "c676c36363170915ac4c3f289ef1aff05b113e8d",
        "_cell_guid": "f18005ac-6780-46bd-a5cb-a135ef57c6fd"
      },
      "cell_type": "markdown",
      "source": "### Feature Scaling"
    },
    {
      "metadata": {
        "_uuid": "53dae2b33a7aa2c813ad484f52e4932a9cdc67b0",
        "_cell_guid": "cb6933b6-5b78-43cf-a887-5a1da78f9a68",
        "trusted": false,
        "collapsed": true
      },
      "cell_type": "code",
      "source": "from sklearn.preprocessing import StandardScaler\nsc = StandardScaler()\nx = sc.fit_transform(x)",
      "execution_count": null,
      "outputs": []
    },
    {
      "metadata": {
        "_uuid": "8d03dd9314542c93aba203dd4fb01102249bac25",
        "_cell_guid": "0e214637-f613-499f-bd8a-36dedba045fc"
      },
      "cell_type": "markdown",
      "source": "### Train/Test Split"
    },
    {
      "metadata": {
        "_uuid": "d425beb40fb74f8e7a248d06bbf0304a6591e179",
        "_cell_guid": "16b6be1f-af0a-40a8-b551-e69e1b71ee0e",
        "collapsed": true,
        "trusted": false
      },
      "cell_type": "code",
      "source": "from sklearn.model_selection import train_test_split\nx_train, x_test, y_train, y_test = train_test_split(x,y,test_size=0.2,random_state=123)",
      "execution_count": null,
      "outputs": []
    },
    {
      "metadata": {
        "_uuid": "1b7b2f97e17a82d36d3ed3a685275ff96abb5254",
        "_cell_guid": "c000e555-c345-42a0-9b98-649cacc1b5cd"
      },
      "cell_type": "markdown",
      "source": "### Decision Tree"
    },
    {
      "metadata": {
        "_uuid": "fc7f559189448ba75f869a3599169c2eb19eece6",
        "_cell_guid": "d6be8965-a74e-4bdc-8d30-901cee1480cb",
        "collapsed": true,
        "trusted": false
      },
      "cell_type": "code",
      "source": "#Fitting classifier to training set\nfrom sklearn.tree import DecisionTreeClassifier\nclassifier = DecisionTreeClassifier()\nclassifier = classifier.fit(x_train, y_train)",
      "execution_count": null,
      "outputs": []
    },
    {
      "metadata": {
        "_uuid": "d66bab75756858bfe721ceb174bb8de17d26b543",
        "_cell_guid": "9885d09c-fbaa-418b-b9dc-399a877d1d29",
        "collapsed": true,
        "trusted": false
      },
      "cell_type": "code",
      "source": "y_pred = classifier.predict(x_test)",
      "execution_count": null,
      "outputs": []
    },
    {
      "metadata": {
        "_uuid": "963795d091f19ac82bd23ba007d3afc4d4a12954",
        "_cell_guid": "25865d76-456a-4d0f-8fef-d69d1e347f02",
        "trusted": false,
        "collapsed": true
      },
      "cell_type": "code",
      "source": "#Confusion Matrix\ncm = metrics.confusion_matrix(y_test, y_pred)\ncm",
      "execution_count": null,
      "outputs": []
    },
    {
      "metadata": {
        "_uuid": "d08005ff0a440b5ddfa42b9e29503e2f872a71b7",
        "_cell_guid": "754a0f22-10c0-4c5b-8bd4-8d5b9c9342d0"
      },
      "cell_type": "markdown",
      "source": "### Random Forest"
    },
    {
      "metadata": {
        "_uuid": "3f2c30ba371b2100779020bdedbb03570b184f9b",
        "_cell_guid": "4e68c969-06d5-4702-812a-2222196629bd",
        "trusted": false,
        "collapsed": true
      },
      "cell_type": "code",
      "source": "#Fitting classifier to training set\nfrom sklearn.ensemble import RandomForestClassifier\n\nclassifier1 = RandomForestClassifier()\nclassifier1.fit(x_train, y_train.ravel())",
      "execution_count": null,
      "outputs": []
    },
    {
      "metadata": {
        "_uuid": "fe343474b0fd8336d9bbb15e8b47c3a001fab7c5",
        "_cell_guid": "1a847949-18a0-4205-8a1a-5d50dcc95ee2",
        "collapsed": true,
        "trusted": false
      },
      "cell_type": "code",
      "source": "y_pred = classifier1.predict(x_test)",
      "execution_count": null,
      "outputs": []
    },
    {
      "metadata": {
        "_uuid": "a089461350be2259d2cae989b030146128f6dd3a",
        "_cell_guid": "f1dc4fc6-44c3-4f6c-899c-bed5c85d76eb",
        "trusted": false,
        "collapsed": true
      },
      "cell_type": "code",
      "source": "#Confusion Matrix\ncm = metrics.confusion_matrix(y_test, y_pred)\ncm",
      "execution_count": null,
      "outputs": []
    },
    {
      "metadata": {
        "_uuid": "71501b445d6a69b1540423d88a76bdf7205bbd4a",
        "_cell_guid": "38e65f57-a97a-4250-808c-5af4207c1d53",
        "collapsed": true,
        "trusted": false
      },
      "cell_type": "code",
      "source": "",
      "execution_count": null,
      "outputs": []
    }
  ],
  "metadata": {
    "kernelspec": {
      "display_name": "Python 3",
      "language": "python",
      "name": "python3"
    },
    "language_info": {
      "codemirror_mode": {
        "name": "ipython",
        "version": 3
      },
      "name": "python",
      "version": "3.6.3",
      "nbconvert_exporter": "python",
      "pygments_lexer": "ipython3",
      "mimetype": "text/x-python",
      "file_extension": ".py"
    }
  },
  "nbformat": 4,
  "nbformat_minor": 1
}